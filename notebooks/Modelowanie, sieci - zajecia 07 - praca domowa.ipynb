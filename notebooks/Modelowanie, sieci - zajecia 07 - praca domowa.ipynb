{
 "cells": [
  {
   "cell_type": "code",
   "execution_count": 1,
   "metadata": {
    "collapsed": true
   },
   "outputs": [],
   "source": [
    "import numpy as np\n",
    "import matplotlib.pyplot as plt\n",
    "\n",
    "from keras.models import Sequential\n",
    "from keras.layers import Dense, Dropout, Flatten\n",
    "from keras.applications.xception import Xception, preprocess_input, decode_predictions"
   ]
  },
  {
   "cell_type": "markdown",
   "metadata": {},
   "source": [
    "Biblioteka z której korzystamy do sieci neuronowych, `Keras`, to faktycznie wygodny interfejs do bardziej technicznych bibliotek takich jak `TensorFlow` (Google'a, obecnie bardzo popularna biblioteka), `Theano` (grupy badawczej Yoshua Bengio, starsza biblioteka, której rozwój nie będzie już kontynuowany, ale która zapoczątkowała obecne trendy) czy `CNTK` (Microsoft'u, na razie mało popularna). Domyślnie `Keras` korzysta z `TensorFlow` (chociażby dlatego, że autor biblioteki `Keras`, François Chollet, jest pracownikiem Google'a).  \n",
    "Aby kod w tym notebook'u działał Ci poprawnie upewnij się, że masz wersję `TensorFlow` >= 1.8.0."
   ]
  },
  {
   "cell_type": "code",
   "execution_count": 3,
   "metadata": {},
   "outputs": [
    {
     "name": "stdout",
     "output_type": "stream",
     "text": [
      "Upewnij się że wersja TensorFlow to co najmniej \"1.8.0\"\n",
      "Twoja wersja to: 1.8.0\n"
     ]
    }
   ],
   "source": [
    "import tensorflow as tf\n",
    "msg = 'Upewnij się że wersja TensorFlow to co najmniej \"1.8.0\"\\nTwoja wersja to: {}'\n",
    "print(msg.format(tf.__version__))"
   ]
  },
  {
   "cell_type": "markdown",
   "metadata": {},
   "source": [
    "Jeżeli masz starszą wersję tensorflow możesz z poziomu konsoli odpalić komendę:\n",
    "```\n",
    "pip install tensorflow --upgrade\n",
    "```\n",
    "albo w notebook'u:\n",
    "```\n",
    "!pip install tensorflow --upgrade\n",
    "```"
   ]
  },
  {
   "cell_type": "markdown",
   "metadata": {},
   "source": [
    "## Transfer learning\n",
    "W tej pracy domowej bawimy się w *transfer learning* czyli stosowanie wytrenowanych, zwykle dużych (głębokich) sieci neuronowych do nieco nowych zastosowań. Zastosowania te są o tyle nowe, że nie są to dokładnie te same zadania, do których sieć była trenowana, ale z drugiej strony nie są radykalnie inne - dotyczą cały czas np. tej samej modalności (przetwarzanie zdjęć na przykład).  \n",
    "Skorzystamy z sieci `Xception`, którą zresztą opracował François Chollet na podstawie wcześniejszej architektury Google'a Inception v3. Sieć ta jest głęboka: ma 126 warstw, które charakteryzują prawie 23 miliony parametrów! Sieć ta była trenowana na bazie `ImageNet` tzn. na milionach zdjęć. Miała za zadanie rozpoznawać czy zdjęcie przedstawia jedną z tysiąca klas.  \n",
    "Najpierw ściągniemy model, przy czym chcemy usunąć ostatnie warstwy `Dense` aby móc je zastąpić swoimi. W związku z tym ustawimy parametr `include_top` na fałsz. Dodatkowo będziemy używać zdjęć o rozmiarach 150 x 150 x 3 podamy w związku z tym te rozmiary do argumentu `input_shape` jako *tuple* tzn. `(wysokość, szerokość, głębokość)` (ale zamiast nazw wymiarów musisz oczywiście wpisać konkretne wartości):"
   ]
  },
  {
   "cell_type": "code",
   "execution_count": 4,
   "metadata": {},
   "outputs": [
    {
     "name": "stdout",
     "output_type": "stream",
     "text": [
      "Downloading data from https://github.com/fchollet/deep-learning-models/releases/download/v0.4/xception_weights_tf_dim_ordering_tf_kernels_notop.h5\n",
      "83689472/83683744 [==============================] - 41s 0us/step\n",
      "__________________________________________________________________________________________________\n",
      "Layer (type)                    Output Shape         Param #     Connected to                     \n",
      "==================================================================================================\n",
      "input_1 (InputLayer)            (None, 150, 150, 3)  0                                            \n",
      "__________________________________________________________________________________________________\n",
      "block1_conv1 (Conv2D)           (None, 74, 74, 32)   864         input_1[0][0]                    \n",
      "__________________________________________________________________________________________________\n",
      "block1_conv1_bn (BatchNormaliza (None, 74, 74, 32)   128         block1_conv1[0][0]               \n",
      "__________________________________________________________________________________________________\n",
      "block1_conv1_act (Activation)   (None, 74, 74, 32)   0           block1_conv1_bn[0][0]            \n",
      "__________________________________________________________________________________________________\n",
      "block1_conv2 (Conv2D)           (None, 72, 72, 64)   18432       block1_conv1_act[0][0]           \n",
      "__________________________________________________________________________________________________\n",
      "block1_conv2_bn (BatchNormaliza (None, 72, 72, 64)   256         block1_conv2[0][0]               \n",
      "__________________________________________________________________________________________________\n",
      "block1_conv2_act (Activation)   (None, 72, 72, 64)   0           block1_conv2_bn[0][0]            \n",
      "__________________________________________________________________________________________________\n",
      "block2_sepconv1 (SeparableConv2 (None, 72, 72, 128)  8768        block1_conv2_act[0][0]           \n",
      "__________________________________________________________________________________________________\n",
      "block2_sepconv1_bn (BatchNormal (None, 72, 72, 128)  512         block2_sepconv1[0][0]            \n",
      "__________________________________________________________________________________________________\n",
      "block2_sepconv2_act (Activation (None, 72, 72, 128)  0           block2_sepconv1_bn[0][0]         \n",
      "__________________________________________________________________________________________________\n",
      "block2_sepconv2 (SeparableConv2 (None, 72, 72, 128)  17536       block2_sepconv2_act[0][0]        \n",
      "__________________________________________________________________________________________________\n",
      "block2_sepconv2_bn (BatchNormal (None, 72, 72, 128)  512         block2_sepconv2[0][0]            \n",
      "__________________________________________________________________________________________________\n",
      "conv2d_1 (Conv2D)               (None, 36, 36, 128)  8192        block1_conv2_act[0][0]           \n",
      "__________________________________________________________________________________________________\n",
      "block2_pool (MaxPooling2D)      (None, 36, 36, 128)  0           block2_sepconv2_bn[0][0]         \n",
      "__________________________________________________________________________________________________\n",
      "batch_normalization_1 (BatchNor (None, 36, 36, 128)  512         conv2d_1[0][0]                   \n",
      "__________________________________________________________________________________________________\n",
      "add_1 (Add)                     (None, 36, 36, 128)  0           block2_pool[0][0]                \n",
      "                                                                 batch_normalization_1[0][0]      \n",
      "__________________________________________________________________________________________________\n",
      "block3_sepconv1_act (Activation (None, 36, 36, 128)  0           add_1[0][0]                      \n",
      "__________________________________________________________________________________________________\n",
      "block3_sepconv1 (SeparableConv2 (None, 36, 36, 256)  33920       block3_sepconv1_act[0][0]        \n",
      "__________________________________________________________________________________________________\n",
      "block3_sepconv1_bn (BatchNormal (None, 36, 36, 256)  1024        block3_sepconv1[0][0]            \n",
      "__________________________________________________________________________________________________\n",
      "block3_sepconv2_act (Activation (None, 36, 36, 256)  0           block3_sepconv1_bn[0][0]         \n",
      "__________________________________________________________________________________________________\n",
      "block3_sepconv2 (SeparableConv2 (None, 36, 36, 256)  67840       block3_sepconv2_act[0][0]        \n",
      "__________________________________________________________________________________________________\n",
      "block3_sepconv2_bn (BatchNormal (None, 36, 36, 256)  1024        block3_sepconv2[0][0]            \n",
      "__________________________________________________________________________________________________\n",
      "conv2d_2 (Conv2D)               (None, 18, 18, 256)  32768       add_1[0][0]                      \n",
      "__________________________________________________________________________________________________\n",
      "block3_pool (MaxPooling2D)      (None, 18, 18, 256)  0           block3_sepconv2_bn[0][0]         \n",
      "__________________________________________________________________________________________________\n",
      "batch_normalization_2 (BatchNor (None, 18, 18, 256)  1024        conv2d_2[0][0]                   \n",
      "__________________________________________________________________________________________________\n",
      "add_2 (Add)                     (None, 18, 18, 256)  0           block3_pool[0][0]                \n",
      "                                                                 batch_normalization_2[0][0]      \n",
      "__________________________________________________________________________________________________\n",
      "block4_sepconv1_act (Activation (None, 18, 18, 256)  0           add_2[0][0]                      \n",
      "__________________________________________________________________________________________________\n",
      "block4_sepconv1 (SeparableConv2 (None, 18, 18, 728)  188672      block4_sepconv1_act[0][0]        \n",
      "__________________________________________________________________________________________________\n",
      "block4_sepconv1_bn (BatchNormal (None, 18, 18, 728)  2912        block4_sepconv1[0][0]            \n",
      "__________________________________________________________________________________________________\n",
      "block4_sepconv2_act (Activation (None, 18, 18, 728)  0           block4_sepconv1_bn[0][0]         \n",
      "__________________________________________________________________________________________________\n",
      "block4_sepconv2 (SeparableConv2 (None, 18, 18, 728)  536536      block4_sepconv2_act[0][0]        \n",
      "__________________________________________________________________________________________________\n",
      "block4_sepconv2_bn (BatchNormal (None, 18, 18, 728)  2912        block4_sepconv2[0][0]            \n",
      "__________________________________________________________________________________________________\n",
      "conv2d_3 (Conv2D)               (None, 9, 9, 728)    186368      add_2[0][0]                      \n",
      "__________________________________________________________________________________________________\n",
      "block4_pool (MaxPooling2D)      (None, 9, 9, 728)    0           block4_sepconv2_bn[0][0]         \n",
      "__________________________________________________________________________________________________\n",
      "batch_normalization_3 (BatchNor (None, 9, 9, 728)    2912        conv2d_3[0][0]                   \n",
      "__________________________________________________________________________________________________\n",
      "add_3 (Add)                     (None, 9, 9, 728)    0           block4_pool[0][0]                \n",
      "                                                                 batch_normalization_3[0][0]      \n",
      "__________________________________________________________________________________________________\n",
      "block5_sepconv1_act (Activation (None, 9, 9, 728)    0           add_3[0][0]                      \n",
      "__________________________________________________________________________________________________\n",
      "block5_sepconv1 (SeparableConv2 (None, 9, 9, 728)    536536      block5_sepconv1_act[0][0]        \n",
      "__________________________________________________________________________________________________\n",
      "block5_sepconv1_bn (BatchNormal (None, 9, 9, 728)    2912        block5_sepconv1[0][0]            \n",
      "__________________________________________________________________________________________________\n",
      "block5_sepconv2_act (Activation (None, 9, 9, 728)    0           block5_sepconv1_bn[0][0]         \n",
      "__________________________________________________________________________________________________\n",
      "block5_sepconv2 (SeparableConv2 (None, 9, 9, 728)    536536      block5_sepconv2_act[0][0]        \n",
      "__________________________________________________________________________________________________\n",
      "block5_sepconv2_bn (BatchNormal (None, 9, 9, 728)    2912        block5_sepconv2[0][0]            \n",
      "__________________________________________________________________________________________________\n",
      "block5_sepconv3_act (Activation (None, 9, 9, 728)    0           block5_sepconv2_bn[0][0]         \n",
      "__________________________________________________________________________________________________\n",
      "block5_sepconv3 (SeparableConv2 (None, 9, 9, 728)    536536      block5_sepconv3_act[0][0]        \n",
      "__________________________________________________________________________________________________\n",
      "block5_sepconv3_bn (BatchNormal (None, 9, 9, 728)    2912        block5_sepconv3[0][0]            \n",
      "__________________________________________________________________________________________________\n",
      "add_4 (Add)                     (None, 9, 9, 728)    0           block5_sepconv3_bn[0][0]         \n",
      "                                                                 add_3[0][0]                      \n",
      "__________________________________________________________________________________________________\n",
      "block6_sepconv1_act (Activation (None, 9, 9, 728)    0           add_4[0][0]                      \n",
      "__________________________________________________________________________________________________\n",
      "block6_sepconv1 (SeparableConv2 (None, 9, 9, 728)    536536      block6_sepconv1_act[0][0]        \n",
      "__________________________________________________________________________________________________\n",
      "block6_sepconv1_bn (BatchNormal (None, 9, 9, 728)    2912        block6_sepconv1[0][0]            \n",
      "__________________________________________________________________________________________________\n",
      "block6_sepconv2_act (Activation (None, 9, 9, 728)    0           block6_sepconv1_bn[0][0]         \n",
      "__________________________________________________________________________________________________\n",
      "block6_sepconv2 (SeparableConv2 (None, 9, 9, 728)    536536      block6_sepconv2_act[0][0]        \n",
      "__________________________________________________________________________________________________\n",
      "block6_sepconv2_bn (BatchNormal (None, 9, 9, 728)    2912        block6_sepconv2[0][0]            \n",
      "__________________________________________________________________________________________________\n",
      "block6_sepconv3_act (Activation (None, 9, 9, 728)    0           block6_sepconv2_bn[0][0]         \n",
      "__________________________________________________________________________________________________\n",
      "block6_sepconv3 (SeparableConv2 (None, 9, 9, 728)    536536      block6_sepconv3_act[0][0]        \n",
      "__________________________________________________________________________________________________\n",
      "block6_sepconv3_bn (BatchNormal (None, 9, 9, 728)    2912        block6_sepconv3[0][0]            \n",
      "__________________________________________________________________________________________________\n",
      "add_5 (Add)                     (None, 9, 9, 728)    0           block6_sepconv3_bn[0][0]         \n",
      "                                                                 add_4[0][0]                      \n",
      "__________________________________________________________________________________________________\n",
      "block7_sepconv1_act (Activation (None, 9, 9, 728)    0           add_5[0][0]                      \n",
      "__________________________________________________________________________________________________\n",
      "block7_sepconv1 (SeparableConv2 (None, 9, 9, 728)    536536      block7_sepconv1_act[0][0]        \n",
      "__________________________________________________________________________________________________\n",
      "block7_sepconv1_bn (BatchNormal (None, 9, 9, 728)    2912        block7_sepconv1[0][0]            \n",
      "__________________________________________________________________________________________________\n",
      "block7_sepconv2_act (Activation (None, 9, 9, 728)    0           block7_sepconv1_bn[0][0]         \n",
      "__________________________________________________________________________________________________\n",
      "block7_sepconv2 (SeparableConv2 (None, 9, 9, 728)    536536      block7_sepconv2_act[0][0]        \n",
      "__________________________________________________________________________________________________\n",
      "block7_sepconv2_bn (BatchNormal (None, 9, 9, 728)    2912        block7_sepconv2[0][0]            \n",
      "__________________________________________________________________________________________________\n",
      "block7_sepconv3_act (Activation (None, 9, 9, 728)    0           block7_sepconv2_bn[0][0]         \n",
      "__________________________________________________________________________________________________\n",
      "block7_sepconv3 (SeparableConv2 (None, 9, 9, 728)    536536      block7_sepconv3_act[0][0]        \n",
      "__________________________________________________________________________________________________\n",
      "block7_sepconv3_bn (BatchNormal (None, 9, 9, 728)    2912        block7_sepconv3[0][0]            \n",
      "__________________________________________________________________________________________________\n",
      "add_6 (Add)                     (None, 9, 9, 728)    0           block7_sepconv3_bn[0][0]         \n",
      "                                                                 add_5[0][0]                      \n",
      "__________________________________________________________________________________________________\n",
      "block8_sepconv1_act (Activation (None, 9, 9, 728)    0           add_6[0][0]                      \n",
      "__________________________________________________________________________________________________\n",
      "block8_sepconv1 (SeparableConv2 (None, 9, 9, 728)    536536      block8_sepconv1_act[0][0]        \n",
      "__________________________________________________________________________________________________\n",
      "block8_sepconv1_bn (BatchNormal (None, 9, 9, 728)    2912        block8_sepconv1[0][0]            \n",
      "__________________________________________________________________________________________________\n",
      "block8_sepconv2_act (Activation (None, 9, 9, 728)    0           block8_sepconv1_bn[0][0]         \n",
      "__________________________________________________________________________________________________\n",
      "block8_sepconv2 (SeparableConv2 (None, 9, 9, 728)    536536      block8_sepconv2_act[0][0]        \n",
      "__________________________________________________________________________________________________\n",
      "block8_sepconv2_bn (BatchNormal (None, 9, 9, 728)    2912        block8_sepconv2[0][0]            \n",
      "__________________________________________________________________________________________________\n",
      "block8_sepconv3_act (Activation (None, 9, 9, 728)    0           block8_sepconv2_bn[0][0]         \n",
      "__________________________________________________________________________________________________\n",
      "block8_sepconv3 (SeparableConv2 (None, 9, 9, 728)    536536      block8_sepconv3_act[0][0]        \n",
      "__________________________________________________________________________________________________\n",
      "block8_sepconv3_bn (BatchNormal (None, 9, 9, 728)    2912        block8_sepconv3[0][0]            \n",
      "__________________________________________________________________________________________________\n",
      "add_7 (Add)                     (None, 9, 9, 728)    0           block8_sepconv3_bn[0][0]         \n",
      "                                                                 add_6[0][0]                      \n",
      "__________________________________________________________________________________________________\n",
      "block9_sepconv1_act (Activation (None, 9, 9, 728)    0           add_7[0][0]                      \n",
      "__________________________________________________________________________________________________\n",
      "block9_sepconv1 (SeparableConv2 (None, 9, 9, 728)    536536      block9_sepconv1_act[0][0]        \n",
      "__________________________________________________________________________________________________\n",
      "block9_sepconv1_bn (BatchNormal (None, 9, 9, 728)    2912        block9_sepconv1[0][0]            \n",
      "__________________________________________________________________________________________________\n",
      "block9_sepconv2_act (Activation (None, 9, 9, 728)    0           block9_sepconv1_bn[0][0]         \n",
      "__________________________________________________________________________________________________\n",
      "block9_sepconv2 (SeparableConv2 (None, 9, 9, 728)    536536      block9_sepconv2_act[0][0]        \n",
      "__________________________________________________________________________________________________\n",
      "block9_sepconv2_bn (BatchNormal (None, 9, 9, 728)    2912        block9_sepconv2[0][0]            \n",
      "__________________________________________________________________________________________________\n",
      "block9_sepconv3_act (Activation (None, 9, 9, 728)    0           block9_sepconv2_bn[0][0]         \n",
      "__________________________________________________________________________________________________\n",
      "block9_sepconv3 (SeparableConv2 (None, 9, 9, 728)    536536      block9_sepconv3_act[0][0]        \n",
      "__________________________________________________________________________________________________\n",
      "block9_sepconv3_bn (BatchNormal (None, 9, 9, 728)    2912        block9_sepconv3[0][0]            \n",
      "__________________________________________________________________________________________________\n",
      "add_8 (Add)                     (None, 9, 9, 728)    0           block9_sepconv3_bn[0][0]         \n",
      "                                                                 add_7[0][0]                      \n",
      "__________________________________________________________________________________________________\n",
      "block10_sepconv1_act (Activatio (None, 9, 9, 728)    0           add_8[0][0]                      \n",
      "__________________________________________________________________________________________________\n",
      "block10_sepconv1 (SeparableConv (None, 9, 9, 728)    536536      block10_sepconv1_act[0][0]       \n",
      "__________________________________________________________________________________________________\n",
      "block10_sepconv1_bn (BatchNorma (None, 9, 9, 728)    2912        block10_sepconv1[0][0]           \n",
      "__________________________________________________________________________________________________\n",
      "block10_sepconv2_act (Activatio (None, 9, 9, 728)    0           block10_sepconv1_bn[0][0]        \n",
      "__________________________________________________________________________________________________\n",
      "block10_sepconv2 (SeparableConv (None, 9, 9, 728)    536536      block10_sepconv2_act[0][0]       \n",
      "__________________________________________________________________________________________________\n",
      "block10_sepconv2_bn (BatchNorma (None, 9, 9, 728)    2912        block10_sepconv2[0][0]           \n",
      "__________________________________________________________________________________________________\n",
      "block10_sepconv3_act (Activatio (None, 9, 9, 728)    0           block10_sepconv2_bn[0][0]        \n",
      "__________________________________________________________________________________________________\n",
      "block10_sepconv3 (SeparableConv (None, 9, 9, 728)    536536      block10_sepconv3_act[0][0]       \n",
      "__________________________________________________________________________________________________\n",
      "block10_sepconv3_bn (BatchNorma (None, 9, 9, 728)    2912        block10_sepconv3[0][0]           \n",
      "__________________________________________________________________________________________________\n",
      "add_9 (Add)                     (None, 9, 9, 728)    0           block10_sepconv3_bn[0][0]        \n",
      "                                                                 add_8[0][0]                      \n",
      "__________________________________________________________________________________________________\n",
      "block11_sepconv1_act (Activatio (None, 9, 9, 728)    0           add_9[0][0]                      \n",
      "__________________________________________________________________________________________________\n",
      "block11_sepconv1 (SeparableConv (None, 9, 9, 728)    536536      block11_sepconv1_act[0][0]       \n",
      "__________________________________________________________________________________________________\n",
      "block11_sepconv1_bn (BatchNorma (None, 9, 9, 728)    2912        block11_sepconv1[0][0]           \n",
      "__________________________________________________________________________________________________\n",
      "block11_sepconv2_act (Activatio (None, 9, 9, 728)    0           block11_sepconv1_bn[0][0]        \n",
      "__________________________________________________________________________________________________\n",
      "block11_sepconv2 (SeparableConv (None, 9, 9, 728)    536536      block11_sepconv2_act[0][0]       \n",
      "__________________________________________________________________________________________________\n",
      "block11_sepconv2_bn (BatchNorma (None, 9, 9, 728)    2912        block11_sepconv2[0][0]           \n",
      "__________________________________________________________________________________________________\n",
      "block11_sepconv3_act (Activatio (None, 9, 9, 728)    0           block11_sepconv2_bn[0][0]        \n",
      "__________________________________________________________________________________________________\n",
      "block11_sepconv3 (SeparableConv (None, 9, 9, 728)    536536      block11_sepconv3_act[0][0]       \n",
      "__________________________________________________________________________________________________\n",
      "block11_sepconv3_bn (BatchNorma (None, 9, 9, 728)    2912        block11_sepconv3[0][0]           \n",
      "__________________________________________________________________________________________________\n",
      "add_10 (Add)                    (None, 9, 9, 728)    0           block11_sepconv3_bn[0][0]        \n",
      "                                                                 add_9[0][0]                      \n",
      "__________________________________________________________________________________________________\n",
      "block12_sepconv1_act (Activatio (None, 9, 9, 728)    0           add_10[0][0]                     \n",
      "__________________________________________________________________________________________________\n",
      "block12_sepconv1 (SeparableConv (None, 9, 9, 728)    536536      block12_sepconv1_act[0][0]       \n",
      "__________________________________________________________________________________________________\n",
      "block12_sepconv1_bn (BatchNorma (None, 9, 9, 728)    2912        block12_sepconv1[0][0]           \n",
      "__________________________________________________________________________________________________\n",
      "block12_sepconv2_act (Activatio (None, 9, 9, 728)    0           block12_sepconv1_bn[0][0]        \n",
      "__________________________________________________________________________________________________\n",
      "block12_sepconv2 (SeparableConv (None, 9, 9, 728)    536536      block12_sepconv2_act[0][0]       \n",
      "__________________________________________________________________________________________________\n",
      "block12_sepconv2_bn (BatchNorma (None, 9, 9, 728)    2912        block12_sepconv2[0][0]           \n",
      "__________________________________________________________________________________________________\n",
      "block12_sepconv3_act (Activatio (None, 9, 9, 728)    0           block12_sepconv2_bn[0][0]        \n",
      "__________________________________________________________________________________________________\n",
      "block12_sepconv3 (SeparableConv (None, 9, 9, 728)    536536      block12_sepconv3_act[0][0]       \n",
      "__________________________________________________________________________________________________\n",
      "block12_sepconv3_bn (BatchNorma (None, 9, 9, 728)    2912        block12_sepconv3[0][0]           \n",
      "__________________________________________________________________________________________________\n",
      "add_11 (Add)                    (None, 9, 9, 728)    0           block12_sepconv3_bn[0][0]        \n",
      "                                                                 add_10[0][0]                     \n",
      "__________________________________________________________________________________________________\n",
      "block13_sepconv1_act (Activatio (None, 9, 9, 728)    0           add_11[0][0]                     \n",
      "__________________________________________________________________________________________________\n",
      "block13_sepconv1 (SeparableConv (None, 9, 9, 728)    536536      block13_sepconv1_act[0][0]       \n",
      "__________________________________________________________________________________________________\n",
      "block13_sepconv1_bn (BatchNorma (None, 9, 9, 728)    2912        block13_sepconv1[0][0]           \n",
      "__________________________________________________________________________________________________\n",
      "block13_sepconv2_act (Activatio (None, 9, 9, 728)    0           block13_sepconv1_bn[0][0]        \n",
      "__________________________________________________________________________________________________\n",
      "block13_sepconv2 (SeparableConv (None, 9, 9, 1024)   752024      block13_sepconv2_act[0][0]       \n",
      "__________________________________________________________________________________________________\n",
      "block13_sepconv2_bn (BatchNorma (None, 9, 9, 1024)   4096        block13_sepconv2[0][0]           \n",
      "__________________________________________________________________________________________________\n",
      "conv2d_4 (Conv2D)               (None, 5, 5, 1024)   745472      add_11[0][0]                     \n",
      "__________________________________________________________________________________________________\n",
      "block13_pool (MaxPooling2D)     (None, 5, 5, 1024)   0           block13_sepconv2_bn[0][0]        \n",
      "__________________________________________________________________________________________________\n",
      "batch_normalization_4 (BatchNor (None, 5, 5, 1024)   4096        conv2d_4[0][0]                   \n",
      "__________________________________________________________________________________________________\n",
      "add_12 (Add)                    (None, 5, 5, 1024)   0           block13_pool[0][0]               \n",
      "                                                                 batch_normalization_4[0][0]      \n",
      "__________________________________________________________________________________________________\n",
      "block14_sepconv1 (SeparableConv (None, 5, 5, 1536)   1582080     add_12[0][0]                     \n",
      "__________________________________________________________________________________________________\n",
      "block14_sepconv1_bn (BatchNorma (None, 5, 5, 1536)   6144        block14_sepconv1[0][0]           \n",
      "__________________________________________________________________________________________________\n",
      "block14_sepconv1_act (Activatio (None, 5, 5, 1536)   0           block14_sepconv1_bn[0][0]        \n",
      "__________________________________________________________________________________________________\n",
      "block14_sepconv2 (SeparableConv (None, 5, 5, 2048)   3159552     block14_sepconv1_act[0][0]       \n",
      "__________________________________________________________________________________________________\n",
      "block14_sepconv2_bn (BatchNorma (None, 5, 5, 2048)   8192        block14_sepconv2[0][0]           \n",
      "__________________________________________________________________________________________________\n",
      "block14_sepconv2_act (Activatio (None, 5, 5, 2048)   0           block14_sepconv2_bn[0][0]        \n",
      "==================================================================================================\n",
      "Total params: 20,861,480\n",
      "Trainable params: 20,806,952\n",
      "Non-trainable params: 54,528\n",
      "__________________________________________________________________________________________________\n"
     ]
    }
   ],
   "source": [
    "xception_model = Xception(include_top=_____, input_shape=(___, ___, _))\n",
    "xception_model.summary()"
   ]
  },
  {
   "cell_type": "markdown",
   "metadata": {},
   "source": [
    "Moglibyśmy trenować tego rodzaju sieć ale na komputerze bez odpowiedniego GPU trwało by to zbyt długo.\n",
    "Wczytamy najpierw 2000 zdjęć - zobaczycie ile trwa przetwarzanie tylko kilku zdjęć przez tę sieć na samym CPU.  \n",
    "Uzupełnij kod poniżej odpowiednimi wartościami (pamiętasz jakiego rozmiaru miały być zdjęcia? tutaj podaj tylko wysokość i szerokość)."
   ]
  },
  {
   "cell_type": "code",
   "execution_count": null,
   "metadata": {
    "collapsed": true
   },
   "outputs": [],
   "source": [
    "from emosie import load_images\n",
    "\n",
    "X, y = load_images(r'psy_vs_koty\\train', n_images=____, resize=(___, ___))"
   ]
  },
  {
   "cell_type": "markdown",
   "metadata": {},
   "source": [
    "Zdjęcia musimy jeszcze tylko przygotować aby były zgodne z formatem używanym w bazie ImageNet. Korzystamy do tego z funkcji `preprocess_input`:"
   ]
  },
  {
   "cell_type": "code",
   "execution_count": null,
   "metadata": {
    "collapsed": true
   },
   "outputs": [],
   "source": [
    "X = _____________(X)"
   ]
  },
  {
   "cell_type": "markdown",
   "metadata": {},
   "source": [
    "Poniżej chcemy przepuścić przez sieć 10 pierwszych zdjęć. Musisz tylko odpowiednio zaadresować zdjęcia (`X`) aby wybrać 10 pierwszych.  \n",
    "`%time` to z kolei specjalna komenda notebook'owa do mierzenia czasu. "
   ]
  },
  {
   "cell_type": "code",
   "execution_count": 8,
   "metadata": {},
   "outputs": [
    {
     "name": "stdout",
     "output_type": "stream",
     "text": [
      "Wall time: 3.71 s\n"
     ]
    }
   ],
   "source": [
    "%time predictions = xception_model.predict(X[___])"
   ]
  },
  {
   "cell_type": "markdown",
   "metadata": {},
   "source": [
    "Przetworzenie 10 zdjęć trwało prawie 4 sekundy. W związku z tym gdybyśmy 1700 zdjęć wzięli do treningu (300 do testu) jedna epoka treningu trwałaby:"
   ]
  },
  {
   "cell_type": "code",
   "execution_count": 9,
   "metadata": {},
   "outputs": [
    {
     "data": {
      "text/plain": [
       "630.7"
      ]
     },
     "execution_count": 9,
     "metadata": {},
     "output_type": "execute_result"
    }
   ],
   "source": [
    "170 * 3.71"
   ]
  },
  {
   "cell_type": "markdown",
   "metadata": {},
   "source": [
    "600 sekund, to oczywiście 10 minut, w związku z czym na jedną epokę czekalibyśmy dziesięć i pół minuty. Zważywszy na to, że trenowalibyśmy co najmniej 10 epok, czekalibyśmy na zakończenie treningu ponad godzinę i 40 minut.  \n",
    "Nie chcemy aż tyle czekać, możemy w związku z tym zastosować prosty trick, wszystkie obrazki treningowe przepuścimy przez sieć raz aby zobaczyć jakie własności wyciąga z nich sieć, a następnie będziemy trenować już tylko kilka warstw `Dense` na wyciągniętych przez sieć własnościach. Zobaczmy najpierw co sieć zwróciła dla 10 zdjęć, którymi ją nakarmiliśmy:"
   ]
  },
  {
   "cell_type": "code",
   "execution_count": 11,
   "metadata": {},
   "outputs": [
    {
     "data": {
      "text/plain": [
       "(10, 5, 5, 2048)"
      ]
     },
     "execution_count": 11,
     "metadata": {},
     "output_type": "execute_result"
    }
   ],
   "source": [
    "predictions.shape"
   ]
  },
  {
   "cell_type": "markdown",
   "metadata": {},
   "source": [
    "Skąd takie wymiary? Pierwszy wymiar odpowiada oczywiście liczbie obrazków, kolejne natomiast to wynik ostatniej warstwy splotowej sieci. Są to więc ostatnie mapy własności uzyskane przez splot. Każda ma wysokość 5 i szerokość 5, głębokość odpowiada natomiast liczbie filtrów. Widzimy w związku z tym, że ostatnia warstwa splotowa sieci `Xception` ma 2048 filtrów.  \n",
    "Zanim zbudujemy własną sieć przepuścimy wszystkie zdjęcia przez sieć. Skorzystamy do tego z funkcji `extract_features` z naszego pakieciku `emosie`. To powinno potrwać ponad 10 minut, także możecie w tym czasie zająć się czymś innym:"
   ]
  },
  {
   "cell_type": "code",
   "execution_count": 13,
   "metadata": {},
   "outputs": [
    {
     "name": "stdout",
     "output_type": "stream",
     "text": [
      "**************************************************\n",
      "**************************************************\n"
     ]
    }
   ],
   "source": [
    "from emosie import ______________\n",
    "\n",
    "features = extract_features(X, w_jakiej_zmiennej_jest_nasz_model)"
   ]
  },
  {
   "cell_type": "code",
   "execution_count": 14,
   "metadata": {},
   "outputs": [
    {
     "data": {
      "text/plain": [
       "(2000, 51200)"
      ]
     },
     "execution_count": 14,
     "metadata": {},
     "output_type": "execute_result"
    }
   ],
   "source": [
    "features.shape"
   ]
  },
  {
   "cell_type": "markdown",
   "metadata": {},
   "source": [
    "Zauważcie, że funkcja `extract_features` rozwija nam już mapy własności otrzymane przez `Xception` do 51,200 wartości. To tyle samo wartości co oryginalnie, tylko kształt jest inny:"
   ]
  },
  {
   "cell_type": "code",
   "execution_count": 15,
   "metadata": {},
   "outputs": [
    {
     "data": {
      "text/plain": [
       "True"
      ]
     },
     "execution_count": 15,
     "metadata": {},
     "output_type": "execute_result"
    }
   ],
   "source": [
    "51200 == 5 * 5 *2048"
   ]
  },
  {
   "cell_type": "markdown",
   "metadata": {},
   "source": [
    "Mamy więc 2000 obrazków, każdy z nich opisuje 51200 własności wyciągniętych przez sieć `Xception`. Zobaczmy sobie jakiego rzędu jest to redukcja oryginalnego obrazu o wymiarach 150 x 150 x 3:"
   ]
  },
  {
   "cell_type": "code",
   "execution_count": 17,
   "metadata": {},
   "outputs": [
    {
     "name": "stdout",
     "output_type": "stream",
     "text": [
      "Liczba wartości w obrazie: 67500\n",
      "Liczba własności wyciągniętych przez Xception: 51200\n",
      "Redukcja: 1.3-krotna.\n"
     ]
    }
   ],
   "source": [
    "n_wartości_na_obraz = 150 * 150 * 3\n",
    "n_własności = features.shape[1]\n",
    "redukcja = n_wartości_na_obraz / n_własności\n",
    "\n",
    "msg = ('Liczba wartości w obrazie: {}\\nLiczba własności wyciągniętych przez '\n",
    "       'Xception: {}\\nRedukcja: {:.1f}-krotna.')\n",
    "print(msg.format(n_wartości_na_obraz, n_własności, redukcja))"
   ]
  },
  {
   "cell_type": "markdown",
   "metadata": {},
   "source": [
    "Zauważ że liczba własności jest tylko nieznacznie mniejsza niż rozmiar oryginalnego obrazu, także jeżeli sieć będzie się lepiej uczyć na takich własnościach w porównaniu do surowych wartości pikseli wynika to z tego, że mamy do czynienia z lepszym opisem oryginalnego obrazu (w kontekście naszego zadania rozrózniania psów od kotów). Najpierw wytrenujemy sieć na własnościach, a później porównamy z siecią wytrenowaną dla surowych obrazów.  \n",
    "\n",
    "## Architektura sieci\n",
    "Zbudujemy teraz własną sieć, która będzie się składać kolejno z:\n",
    "* warstwy `Dense` mającej 256 neuronów\n",
    "* warstwy `Dropout` z prawdopodobieństwem 0.5\n",
    "* warstwy `Dense` mającej 32 neurony\n",
    "* warstwy `Dropout` z prawdopodobieństwem 0.25\n",
    "* wyjściowej warstwy `Dense` z jednym neuronem\n",
    "\n",
    "Wszystkie warstwy `Dense` będą miały aktywację `'elu'` (możecie później porównać z `'relu'`), oprócz ostatniej, która będzie miała aktywację `sigmoid` (tzn funkcję logistyczną vel sigmoidalną). Pierwsza warstwa `Dense` musi mieć również zdefiniowaną wielkość danych wchodzących do sieci (tzn. ilość własności, które wyciągneliśmy z użyciem sieci `Xception`) - to zostało już uzupełnione za Ciebie. Resztę warstw definiujemy bez argumentu `input_shape`."
   ]
  },
  {
   "cell_type": "code",
   "execution_count": null,
   "metadata": {
    "collapsed": true
   },
   "outputs": [],
   "source": [
    "nasza_sieć = Sequential()\n",
    "nasza_sieć.add(_____(___, activation=____, input_shape=(None, features.shape[1])))\n",
    "nasza_sieć.add(________________)\n",
    "nasza_sieć.add(________________)\n",
    "nasza_sieć.add(________________)\n",
    "nasza_sieć.add(________________)"
   ]
  },
  {
   "cell_type": "markdown",
   "metadata": {},
   "source": [
    "Podzielmy jeszcze dane na treningowe i testowe:"
   ]
  },
  {
   "cell_type": "code",
   "execution_count": 23,
   "metadata": {
    "collapsed": true
   },
   "outputs": [],
   "source": [
    "from sklearn.model_selection import train_test_split\n",
    "\n",
    "# dzielimy własności\n",
    "features_train, features_test, y_train, y_test = train_test_split(features, y, test_size=0.15, random_state=23)\n",
    "\n",
    "# dzielimy też zdjęcia (do późniejszego porównania)\n",
    "X_train, X_test, y_train, y_test = train_test_split(X, y, test_size=0.15, random_state=23)"
   ]
  },
  {
   "cell_type": "code",
   "execution_count": 24,
   "metadata": {},
   "outputs": [
    {
     "name": "stdout",
     "output_type": "stream",
     "text": [
      "(1700, 51200)\n",
      "(300, 51200)\n"
     ]
    }
   ],
   "source": [
    "print(features_train.shape)\n",
    "print(features_test.shape)"
   ]
  },
  {
   "cell_type": "markdown",
   "metadata": {},
   "source": [
    "Czas rozpocząć trening. Kompilujemy model korzystając dla odmiany z optymalizatora `rmsprop`, funkcja kosztu, jak zwykle, `'binary_crossentropy'`."
   ]
  },
  {
   "cell_type": "code",
   "execution_count": 37,
   "metadata": {},
   "outputs": [],
   "source": [
    "nasza_sieć.compile(optimizer=_________, loss=_____________________, metrics=['accuracy'])"
   ]
  },
  {
   "cell_type": "markdown",
   "metadata": {},
   "source": [
    "Następnie trenujemy sieć przez 25 epok:"
   ]
  },
  {
   "cell_type": "code",
   "execution_count": 38,
   "metadata": {},
   "outputs": [
    {
     "name": "stdout",
     "output_type": "stream",
     "text": [
      "Train on 1700 samples, validate on 300 samples\n",
      "Epoch 1/25\n",
      "1700/1700 [==============================] - 20s 12ms/step - loss: 1.7654 - acc: 0.8676 - val_loss: 0.7080 - val_acc: 0.9533\n",
      "Epoch 2/25\n",
      "1700/1700 [==============================] - 17s 10ms/step - loss: 0.9364 - acc: 0.9359 - val_loss: 1.7760 - val_acc: 0.8767\n",
      "Epoch 3/25\n",
      "1700/1700 [==============================] - 17s 10ms/step - loss: 0.9968 - acc: 0.9300 - val_loss: 0.8495 - val_acc: 0.9433\n",
      "Epoch 4/25\n",
      "1700/1700 [==============================] - 17s 10ms/step - loss: 0.8948 - acc: 0.9400 - val_loss: 0.5749 - val_acc: 0.9600\n",
      "Epoch 5/25\n",
      "1700/1700 [==============================] - 17s 10ms/step - loss: 0.8698 - acc: 0.9429 - val_loss: 0.6080 - val_acc: 0.9533\n",
      "Epoch 6/25\n",
      "1700/1700 [==============================] - 17s 10ms/step - loss: 0.8773 - acc: 0.9418 - val_loss: 0.6010 - val_acc: 0.9600\n",
      "Epoch 7/25\n",
      "1700/1700 [==============================] - 17s 10ms/step - loss: 0.9039 - acc: 0.9406 - val_loss: 0.6338 - val_acc: 0.9600\n",
      "Epoch 8/25\n",
      "1700/1700 [==============================] - 17s 10ms/step - loss: 0.9102 - acc: 0.9394 - val_loss: 1.0242 - val_acc: 0.9300\n",
      "Epoch 9/25\n",
      "1700/1700 [==============================] - 17s 10ms/step - loss: 0.7051 - acc: 0.9541 - val_loss: 0.7983 - val_acc: 0.9500\n",
      "Epoch 10/25\n",
      "1700/1700 [==============================] - 17s 10ms/step - loss: 0.8850 - acc: 0.9406 - val_loss: 0.6490 - val_acc: 0.9567\n",
      "Epoch 11/25\n",
      "1700/1700 [==============================] - 17s 10ms/step - loss: 0.6320 - acc: 0.9571 - val_loss: 0.6407 - val_acc: 0.9600\n",
      "Epoch 12/25\n",
      "1700/1700 [==============================] - 17s 10ms/step - loss: 0.7852 - acc: 0.9482 - val_loss: 0.7264 - val_acc: 0.9533\n",
      "Epoch 13/25\n",
      "1700/1700 [==============================] - 17s 10ms/step - loss: 0.7218 - acc: 0.9535 - val_loss: 0.7507 - val_acc: 0.9533\n",
      "Epoch 14/25\n",
      "1700/1700 [==============================] - 17s 10ms/step - loss: 0.9863 - acc: 0.9353 - val_loss: 0.7475 - val_acc: 0.9533\n",
      "Epoch 15/25\n",
      "1700/1700 [==============================] - 17s 10ms/step - loss: 0.7891 - acc: 0.9471 - val_loss: 1.0969 - val_acc: 0.9300\n",
      "Epoch 16/25\n",
      "1700/1700 [==============================] - 16s 9ms/step - loss: 0.7175 - acc: 0.9541 - val_loss: 0.6383 - val_acc: 0.9567\n",
      "Epoch 17/25\n",
      "1700/1700 [==============================] - 16s 10ms/step - loss: 0.8304 - acc: 0.9471 - val_loss: 0.6733 - val_acc: 0.9567\n",
      "Epoch 18/25\n",
      "1700/1700 [==============================] - 17s 10ms/step - loss: 0.6866 - acc: 0.9541 - val_loss: 0.7551 - val_acc: 0.9500\n",
      "Epoch 19/25\n",
      "1700/1700 [==============================] - 17s 10ms/step - loss: 0.7730 - acc: 0.9506 - val_loss: 0.6705 - val_acc: 0.9567\n",
      "Epoch 20/25\n",
      "1700/1700 [==============================] - 17s 10ms/step - loss: 0.8100 - acc: 0.9471 - val_loss: 0.6389 - val_acc: 0.9600\n",
      "Epoch 21/25\n",
      "1700/1700 [==============================] - 16s 9ms/step - loss: 0.7651 - acc: 0.9512 - val_loss: 0.6389 - val_acc: 0.9600\n",
      "Epoch 22/25\n",
      "1700/1700 [==============================] - 17s 10ms/step - loss: 0.6789 - acc: 0.9565 - val_loss: 0.6395 - val_acc: 0.9600\n",
      "Epoch 23/25\n",
      "1700/1700 [==============================] - 17s 10ms/step - loss: 0.7486 - acc: 0.9524 - val_loss: 0.7036 - val_acc: 0.9533\n",
      "Epoch 24/25\n",
      "1700/1700 [==============================] - 16s 10ms/step - loss: 0.7228 - acc: 0.9535 - val_loss: 0.6608 - val_acc: 0.9533\n",
      "Epoch 25/25\n",
      "1700/1700 [==============================] - 16s 10ms/step - loss: 0.6471 - acc: 0.9582 - val_loss: 0.6430 - val_acc: 0.9600\n"
     ]
    }
   ],
   "source": [
    "historia_naszego_treningu = nasza_sieć.fit(\n",
    "    features_train, y_train, epochs=__, validation_data=(features_test, y_test))"
   ]
  },
  {
   "cell_type": "markdown",
   "metadata": {},
   "source": [
    "Zwróć uwagę, że już przy pierwszej epoce sieć dochodzi do poprawności 95% i nie uczy się już później dużo więcej (najwyższa poprawność dochodzi od 96%). Możemy wywnioskować z tego, że uczenie na własnościach otrzymanych z `Xception` jest łatwe i w związku z tym następuje szybko, a więc nie potrzebowaliśmy aż 25 epok. Sieć ucząca się z wartości pikseli będzie potrzebowała jednak dużo więcej czasu, więc dla sprawiedliwości obu sieciom dajemy 25 epok.  \n",
    "Finalna poprawność naszej sieci bazującej na własnościach otrzymanych z `Xception` to 96% - całkiem nieźle!  \n",
    "Zobaczmy wykres poprawności w czasie:"
   ]
  },
  {
   "cell_type": "code",
   "execution_count": 39,
   "metadata": {},
   "outputs": [
    {
     "data": {
      "text/plain": [
       "[<matplotlib.lines.Line2D at 0x1bef16ae518>]"
      ]
     },
     "execution_count": 39,
     "metadata": {},
     "output_type": "execute_result"
    },
    {
     "data": {
      "image/png": "[encoded data removed]",
      "text/plain": [
       "<matplotlib.figure.Figure at 0x1bec2491080>"
      ]
     },
     "metadata": {},
     "output_type": "display_data"
    }
   ],
   "source": [
    "%matplotlib inline \n",
    "plt.plot(historia_naszego_treningu.history['acc'], label='training')\n",
    "plt.plot(historia_naszego_treningu.history['val_acc'], label='validation')\n",
    "plt.legend()"
   ]
  },
  {
   "cell_type": "markdown",
   "metadata": {},
   "source": [
    "Pomęczymy teraz sieć trudniejszym zadaniem.\n",
    "Zobaczmy jak radzi sobie ta sama architektura korzystając z wartości pikseli. Pmiętaj że w przypadku pikseli mamy do czynienia z podobną liczbą wartości co dla własności przetworzonych przez `Xception`. Zobaczycie jednak że przetworzenie przez warstwy splotowe (a więc wyciągnięcie z obrazu własności) ma duże znaczenie. Budujemy taką samą sieć jak wcześniej, inny teraz jest tylko rozmiar danych wejściowych."
   ]
  },
  {
   "cell_type": "code",
   "execution_count": null,
   "metadata": {
    "collapsed": true
   },
   "outputs": [],
   "source": [
    "nasza_sieć2 = Sequential()\n",
    "nasza_sieć2.add(_____(___, activation=____, input_shape=(150 * 150 * 3,)))\n",
    "nasza_sieć2.add(________________)\n",
    "nasza_sieć2.add(________________)\n",
    "nasza_sieć2.add(________________)\n",
    "nasza_sieć2.add(________________)"
   ]
  },
  {
   "cell_type": "markdown",
   "metadata": {},
   "source": [
    "Prosimy o `150 * 150 * 3` wartości tzn. jeden ciąg wartości. W związku z tym \"rozprostujemy\" nasze obrazy tak aby każdy był wektorem wartości:"
   ]
  },
  {
   "cell_type": "code",
   "execution_count": 45,
   "metadata": {},
   "outputs": [
    {
     "name": "stdout",
     "output_type": "stream",
     "text": [
      "Przed:\n",
      "(1700, 150, 150, 3)\n",
      "(300, 150, 150, 3)\n",
      "Po:\n",
      "(1700, 67500)\n",
      "(300, 67500)\n"
     ]
    }
   ],
   "source": [
    "print('Przed:')\n",
    "print(X_train.shape)\n",
    "print(X_test.shape)\n",
    "\n",
    "X_train = X_train.reshape(1700, -1)\n",
    "X_test = X_test.reshape(300, -1)\n",
    "\n",
    "print('Po:')\n",
    "print(X_train.shape)\n",
    "print(X_test.shape)"
   ]
  },
  {
   "cell_type": "code",
   "execution_count": 46,
   "metadata": {},
   "outputs": [
    {
     "name": "stdout",
     "output_type": "stream",
     "text": [
      "Train on 1700 samples, validate on 300 samples\n",
      "Epoch 1/25\n",
      "1700/1700 [==============================] - 24s 14ms/step - loss: 7.2013 - acc: 0.5112 - val_loss: 6.7264 - val_acc: 0.5300\n",
      "Epoch 2/25\n",
      "1700/1700 [==============================] - 20s 12ms/step - loss: 6.8533 - acc: 0.5500 - val_loss: 7.4875 - val_acc: 0.5133\n",
      "Epoch 3/25\n",
      "1700/1700 [==============================] - 21s 12ms/step - loss: 6.8617 - acc: 0.5529 - val_loss: 6.8118 - val_acc: 0.5633\n",
      "Epoch 4/25\n",
      "1700/1700 [==============================] - 21s 12ms/step - loss: 6.9374 - acc: 0.5471 - val_loss: 6.6721 - val_acc: 0.5767\n",
      "Epoch 5/25\n",
      "1700/1700 [==============================] - 21s 13ms/step - loss: 6.7330 - acc: 0.5582 - val_loss: 5.9778 - val_acc: 0.6100\n",
      "Epoch 6/25\n",
      "1700/1700 [==============================] - 21s 13ms/step - loss: 6.7232 - acc: 0.5629 - val_loss: 6.9300 - val_acc: 0.5467\n",
      "Epoch 7/25\n",
      "1700/1700 [==============================] - 22s 13ms/step - loss: 6.6260 - acc: 0.5753 - val_loss: 6.4278 - val_acc: 0.5900\n",
      "Epoch 8/25\n",
      "1700/1700 [==============================] - 21s 12ms/step - loss: 6.4625 - acc: 0.5841 - val_loss: 7.5247 - val_acc: 0.5100\n",
      "Epoch 9/25\n",
      "1700/1700 [==============================] - 21s 12ms/step - loss: 6.4618 - acc: 0.5835 - val_loss: 6.5208 - val_acc: 0.5900\n",
      "Epoch 10/25\n",
      "1700/1700 [==============================] - 21s 12ms/step - loss: 6.3433 - acc: 0.5918 - val_loss: 6.5427 - val_acc: 0.5767\n",
      "Epoch 11/25\n",
      "1700/1700 [==============================] - 21s 13ms/step - loss: 6.6206 - acc: 0.5771 - val_loss: 8.3016 - val_acc: 0.4700\n",
      "Epoch 12/25\n",
      "1700/1700 [==============================] - 21s 12ms/step - loss: 6.7214 - acc: 0.5724 - val_loss: 8.0784 - val_acc: 0.4867\n",
      "Epoch 13/25\n",
      "1700/1700 [==============================] - 21s 12ms/step - loss: 6.5868 - acc: 0.5818 - val_loss: 7.5772 - val_acc: 0.5100\n",
      "Epoch 14/25\n",
      "1700/1700 [==============================] - 21s 12ms/step - loss: 6.3959 - acc: 0.5947 - val_loss: 7.3898 - val_acc: 0.5167\n",
      "Epoch 15/25\n",
      "1700/1700 [==============================] - 21s 12ms/step - loss: 6.7037 - acc: 0.5741 - val_loss: 7.5589 - val_acc: 0.5233\n",
      "Epoch 16/25\n",
      "1700/1700 [==============================] - 21s 12ms/step - loss: 6.8290 - acc: 0.5676 - val_loss: 7.9775 - val_acc: 0.4933\n",
      "Epoch 17/25\n",
      "1700/1700 [==============================] - 21s 12ms/step - loss: 6.9274 - acc: 0.5600 - val_loss: 7.5782 - val_acc: 0.5200\n",
      "Epoch 18/25\n",
      "1700/1700 [==============================] - 21s 12ms/step - loss: 6.9102 - acc: 0.5600 - val_loss: 7.5818 - val_acc: 0.5167\n",
      "Epoch 19/25\n",
      "1700/1700 [==============================] - 21s 12ms/step - loss: 6.7357 - acc: 0.5747 - val_loss: 7.4628 - val_acc: 0.5300\n",
      "Epoch 20/25\n",
      "1700/1700 [==============================] - 21s 12ms/step - loss: 6.7036 - acc: 0.5765 - val_loss: 7.0446 - val_acc: 0.5567\n",
      "Epoch 21/25\n",
      "1700/1700 [==============================] - 21s 12ms/step - loss: 6.3717 - acc: 0.5976 - val_loss: 6.8264 - val_acc: 0.5633\n",
      "Epoch 22/25\n",
      "1700/1700 [==============================] - 21s 12ms/step - loss: 6.5806 - acc: 0.5841 - val_loss: 6.7848 - val_acc: 0.5700\n",
      "Epoch 23/25\n",
      "1700/1700 [==============================] - 21s 12ms/step - loss: 6.6126 - acc: 0.5818 - val_loss: 7.0804 - val_acc: 0.5533\n",
      "Epoch 24/25\n",
      "1700/1700 [==============================] - 21s 12ms/step - loss: 6.6798 - acc: 0.5788 - val_loss: 7.4105 - val_acc: 0.5333\n",
      "Epoch 25/25\n",
      "1700/1700 [==============================] - 21s 12ms/step - loss: 6.4283 - acc: 0.5953 - val_loss: 6.9384 - val_acc: 0.5667\n"
     ]
    }
   ],
   "source": [
    "nasza_sieć2.compile(optimizer='rmsprop', loss='binary_crossentropy', metrics=['accuracy'])\n",
    "historia_naszego_treningu = nasza_sieć2.fit(\n",
    "    _______, y_train, epochs=25, validation_data=(______, y_test))"
   ]
  },
  {
   "cell_type": "markdown",
   "metadata": {},
   "source": [
    "Widzimy, że sieć mająca do dyspozycji surowe wartości pikseli radzi sobie dużo gorzej niż taka sama sieć, która uczy się z własności otrzymanych z `Xception`. To znaczy, że te 126 warstw sieci `Xception` jednak robi coś sensownego :)  \n",
    "Można nawet zaryzykować stwierdzenie, że sieć, która korzysta z surowych pikseli nie uczy się prawie wcale - jej poprawność niewiele różni się od losowej poprawności. Natomiast sieć, która korzystała z własności, a nie pikseli bardzo szybko uczyła się rozróżniać psy i koty na poziomie 96%.  \n",
    "(dla naszej sieci korzystającej z pikseli moglibyśmy spróbować zmienić *learning rate* albo inne parametry optymalizatora, ale nie otrzymalibyśmy znacząco różniących się wyników niż te powyżej)  \n",
    "Zobaczmy jeszcze wykres:"
   ]
  },
  {
   "cell_type": "code",
   "execution_count": 48,
   "metadata": {},
   "outputs": [
    {
     "data": {
      "text/plain": [
       "<matplotlib.legend.Legend at 0x1bef46f30f0>"
      ]
     },
     "execution_count": 48,
     "metadata": {},
     "output_type": "execute_result"
    },
    {
     "data": {
      "image/png": "[encoded data removed]",
      "text/plain": [
       "<matplotlib.figure.Figure at 0x1bef49be198>"
      ]
     },
     "metadata": {},
     "output_type": "display_data"
    }
   ],
   "source": [
    "plt.plot(historia_naszego_treningu.history['acc'], label='training')\n",
    "plt.plot(historia_naszego_treningu.history['val_acc'], label='validation')\n",
    "plt.legend()"
   ]
  },
  {
   "cell_type": "markdown",
   "metadata": {},
   "source": [
    "## Podsumowanie\n",
    "To co zrobiliśmy, czyli wykorzystanie już wytrenowanej sieci do rozwiązania naszego zadania to właśnie *transfer learning*. Zauważ, że użyliśmy do treningu tylko 1700 obrazów, a mimo to uzyskaliśmy znacznie lepszą poprawność niż nasz pierwszy, czy nawet usprawniony model. To właśnie moc *transfer learning'u* - własności, które uczą się wyciągać z obrazu splotowe warstwy sieci stanowią dobrą reprezentację cech obrazu, mają więc zastosowanie również w innych zadaniach z zakresu analizy obrazu."
   ]
  }
 ],
 "metadata": {
  "kernelspec": {
   "display_name": "Python [Root]",
   "language": "python",
   "name": "Python [Root]"
  },
  "language_info": {
   "codemirror_mode": {
    "name": "ipython",
    "version": 3
   },
   "file_extension": ".py",
   "mimetype": "text/x-python",
   "name": "python",
   "nbconvert_exporter": "python",
   "pygments_lexer": "ipython3",
   "version": "3.5.1"
  }
 },
 "nbformat": 4,
 "nbformat_minor": 2
}
